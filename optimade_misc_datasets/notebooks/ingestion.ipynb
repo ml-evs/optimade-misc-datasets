{
 "cells": [
  {
   "cell_type": "markdown",
   "metadata": {},
   "source": [
    "# CAMD novel inorganic crystal structures dataset"
   ]
  },
  {
   "cell_type": "markdown",
   "metadata": {},
   "source": [
    "This notebook ingests the dataset associated with [Novel inorganic crystal structures predicted using autonomous simulation agents](https://doi.org/10.1038/s41597-022-01438-8) by Ye *et al.*., which is archived on [Figshare](https://doi.org/10.6084/m9.figshare.19601956.v1), with the aim of creating an [OPTIMADE API](https://optimade.org) for the data."
   ]
  },
  {
   "cell_type": "code",
   "execution_count": 1,
   "metadata": {},
   "outputs": [],
   "source": [
    "def download_from_figshare(doi, data_dir=None):\n",
    "    import requests\n",
    "    import tqdm\n",
    "    import json\n",
    "    import os\n",
    "    import hashlib\n",
    "    from pathlib import Path\n",
    "\n",
    "    chunk_size = 1024**2\n",
    "    figshare_api_url = \"https://api.figshare.com/v2/\"\n",
    "\n",
    "    response = requests.get(f\"{figshare_api_url}/articles?doi={doi}\")\n",
    "    if response.status_code != 200:\n",
    "        raise RuntimeError(f\"Bad response: {response.content}\")\n",
    "    response = response.json()\n",
    "    article_id = response[0][\"id\"]\n",
    "\n",
    "    response = requests.get(f\"{figshare_api_url}/articles/{article_id}\")\n",
    "    if response.status_code != 200:\n",
    "        raise RuntimeError(f\"Bad response: {response.content}\")\n",
    "    response = response.json()\n",
    "\n",
    "    data_dir = data_dir or \".\"\n",
    "    article_dir = Path(data_dir) / f\"figshare_{article_id}\"\n",
    "    if not article_dir.exists():\n",
    "        os.makedirs(article_dir)\n",
    "\n",
    "    with open(article_dir / \"metadata.json\", \"w\") as f:\n",
    "        json.dump(response, f)\n",
    "\n",
    "    filenames = []\n",
    "    file_ids = []\n",
    "\n",
    "    for files in response[\"files\"]:\n",
    "        download_url = files[\"download_url\"]\n",
    "        local_path = Path(data_dir) / f\"figshare_{article_id}\" / str(files[\"id\"]) / files[\"name\"]\n",
    "        if local_path.exists():\n",
    "            with open(local_path, \"rb\") as f:\n",
    "                md5 = hashlib.md5(f.read()).hexdigest()\n",
    "            if md5 != files[\"supplied_md5\"]:\n",
    "                print(f\"Downloaded file {local_path} ({md5!r}) does not match MD5 supplied by figshare ({files['supplied_md5']!r}), will move\")\n",
    "                local_path.replace(Path(str(local_path) + \".old\"))\n",
    "            else:\n",
    "                print(f\"{local_path} already exists locally ({md5!r}), not re-downlaoding...\")\n",
    "                filenames.append(local_path)\n",
    "                file_ids.append(files[\"id\"])\n",
    "                continue\n",
    "\n",
    "        with requests.get(download_url, stream=True) as file_stream:\n",
    "            print(f\"Downloading file {files['name']!r} with size {files['size'] // 1024**2} MB\")\n",
    "            with open(local_path, \"wb\") as f:\n",
    "                for chunk in tqdm.tqdm(file_stream.iter_content(chunk_size=chunk_size), total=int(files['size']) // chunk_size, unit=\" MB\"):\n",
    "                    f.write(chunk)\n",
    "\n",
    "        filenames.append(local_path)\n",
    "        file_ids.append(files[\"id\"])\n",
    "\n",
    "    return (filenames, file_ids, article_id, article_dir)\n",
    "\n",
    "\n",
    "def extract_files(files):\n",
    "    import tarfile\n",
    "    for f in files:\n",
    "        if str(f).endswith(\".tar.gz\"):\n",
    "            with tarfile.open(f, \"r:gz\") as tar:\n",
    "                tar.extractall(f.parent)"
   ]
  },
  {
   "cell_type": "code",
   "execution_count": 2,
   "metadata": {},
   "outputs": [
    {
     "name": "stdout",
     "output_type": "stream",
     "text": [
      "figshare_19601956/34818031/camd2022.tar.gz already exists locally ('6433ad2ca4b699f6c409fff4c5469255'), not re-downlaoding...\n"
     ]
    }
   ],
   "source": [
    "# Download dataset\n",
    "camd_doi = \"https://doi.org/10.6084/m9.figshare.19601956.v1\"\n",
    "files, file_ids, article_id, article_dir = download_from_figshare(camd_doi)"
   ]
  },
  {
   "cell_type": "code",
   "execution_count": 3,
   "metadata": {},
   "outputs": [],
   "source": [
    "structure_file = f\"figshare_{article_id}/{file_ids[0]}/files/camd_data_to_release_wofeatures.json\""
   ]
  },
  {
   "cell_type": "code",
   "execution_count": 4,
   "metadata": {},
   "outputs": [],
   "source": [
    "import json\n",
    "with open(structure_file, \"r\") as f:\n",
    "    structure_data = json.load(f)"
   ]
  },
  {
   "cell_type": "code",
   "execution_count": 24,
   "metadata": {},
   "outputs": [],
   "source": [
    "def pmg_structure_to_optimade_dict(s, object_id=None):\n",
    "    import re\n",
    "    import math\n",
    "    from optimade.models import StructureResourceAttributes\n",
    "    from optimade.models.utils import anonymous_element_generator\n",
    "    from bson.objectid import ObjectId\n",
    "\n",
    "    attributes = {}\n",
    "    attributes[\"cartesian_site_positions\"] = s.lattice.get_cartesian_coords(s.frac_coords).tolist()\n",
    "    attributes[\"fractional_site_positions\"] = s.frac_coords.tolist()\n",
    "    attributes[\"species_at_sites\"] = [_.symbol for _ in s.species]\n",
    "    attributes[\"species\"] = [{\"name\": _.symbol, \"chemical_symbols\": [_.symbol], \"concentration\": [1]} for _ in set(s.composition.elements)]\n",
    "    attributes[\"dimension_types\"] = [1, 1, 1]\n",
    "    attributes[\"nperiodic_dimensions\"] = 3\n",
    "    attributes[\"nelements\"] = len(s.composition.elements)\n",
    "    if object_id:\n",
    "        attributes[\"last_modified\"] = ObjectId(object_id).generation_time\n",
    "        attributes[\"immutable_id\"] = str(object_id)\n",
    "    else:\n",
    "        attributes[\"last_modified\"] = None\n",
    "        attributes[\"immutable_id\"] = None\n",
    "    attributes[\"chemical_formula_descriptive\"] = None\n",
    "    attributes[\"chemical_formula_anonymous\"] = \"\".join([\"\".join(x) for x in zip(anonymous_element_generator(), reversed(re.split(\"[A-Z]\", s.composition.anonymized_formula)[1:]))])\n",
    "    attributes[\"elements\"] = sorted([_.symbol for _ in s.composition.elements])\n",
    "    gcd = math.gcd(*[int(_) for _ in s.composition.to_reduced_dict.values()])\n",
    "    attributes[\"chemical_formula_reduced\"] = \"\".join(_ + f\"{int(s.composition.to_reduced_dict[_]) // gcd if s.composition.to_reduced_dict[_] // gcd > 1 else ''}\" for _ in attributes[\"elements\"])\n",
    "    attributes[\"elements_ratios\"] = [s.composition.get_atomic_fraction(e) for e in attributes[\"elements\"]]\n",
    "    attributes[\"nsites\"] = len(attributes[\"species_at_sites\"])\n",
    "    attributes[\"lattice_vectors\"] = s.lattice.matrix.tolist()\n",
    "    attributes[\"structure_features\"] = []\n",
    "    return StructureResourceAttributes(**attributes)\n",
    "    \n",
    "def camd_entry_to_optimade_model(entry):\n",
    "    from pymatgen.core import Structure\n",
    "    from optimade.models import StructureResource\n",
    "    s = entry[\"structure\"]\n",
    "    object_id = entry[\"_id\"][\"oid\"]\n",
    "    attributes = pmg_structure_to_optimade_dict(Structure.from_dict(s), object_id=object_id)\n",
    "    attributes._odbx_hull_distance = entry[\"stability\"]\n",
    "    attributes._odbx_formation_energy = entry[\"delta_e\"]\n",
    "    attributes._odbx_space_group = entry[\"space_group\"]\n",
    "    _id = entry[\"data_id\"]\n",
    "    return StructureResource(id=_id, attributes=attributes)\n"
   ]
  },
  {
   "cell_type": "code",
   "execution_count": 39,
   "metadata": {},
   "outputs": [
    {
     "name": "stderr",
     "output_type": "stream",
     "text": [
      "100%|██████████| 131425/131425 [06:58<00:00, 314.27it/s]\n"
     ]
    }
   ],
   "source": [
    "import tqdm\n",
    "optimade_structure_json = []\n",
    "for entry in tqdm.tqdm(structure_data):\n",
    "    structure = camd_entry_to_optimade_model(entry).dict()\n",
    "    structure.update(structure.pop(\"attributes\"))\n",
    "    optimade_structure_json.append(structure)"
   ]
  },
  {
   "cell_type": "code",
   "execution_count": 47,
   "metadata": {},
   "outputs": [
    {
     "data": {
      "text/html": [
       "<div>\n",
       "<style scoped>\n",
       "    .dataframe tbody tr th:only-of-type {\n",
       "        vertical-align: middle;\n",
       "    }\n",
       "\n",
       "    .dataframe tbody tr th {\n",
       "        vertical-align: top;\n",
       "    }\n",
       "\n",
       "    .dataframe thead th {\n",
       "        text-align: right;\n",
       "    }\n",
       "</style>\n",
       "<table border=\"1\" class=\"dataframe\">\n",
       "  <thead>\n",
       "    <tr style=\"text-align: right;\">\n",
       "      <th></th>\n",
       "      <th>nelements</th>\n",
       "      <th>nperiodic_dimensions</th>\n",
       "      <th>nsites</th>\n",
       "      <th>_odbx_hull_distance</th>\n",
       "      <th>_odbx_formation_energy</th>\n",
       "    </tr>\n",
       "  </thead>\n",
       "  <tbody>\n",
       "    <tr>\n",
       "      <th>count</th>\n",
       "      <td>131425.000000</td>\n",
       "      <td>131425.0</td>\n",
       "      <td>131425.000000</td>\n",
       "      <td>131425.000000</td>\n",
       "      <td>131425.000000</td>\n",
       "    </tr>\n",
       "    <tr>\n",
       "      <th>mean</th>\n",
       "      <td>2.848271</td>\n",
       "      <td>3.0</td>\n",
       "      <td>13.132692</td>\n",
       "      <td>0.410940</td>\n",
       "      <td>-0.594078</td>\n",
       "    </tr>\n",
       "    <tr>\n",
       "      <th>std</th>\n",
       "      <td>0.591254</td>\n",
       "      <td>0.0</td>\n",
       "      <td>9.888142</td>\n",
       "      <td>0.618444</td>\n",
       "      <td>1.066740</td>\n",
       "    </tr>\n",
       "    <tr>\n",
       "      <th>min</th>\n",
       "      <td>1.000000</td>\n",
       "      <td>3.0</td>\n",
       "      <td>1.000000</td>\n",
       "      <td>0.000000</td>\n",
       "      <td>-4.720274</td>\n",
       "    </tr>\n",
       "    <tr>\n",
       "      <th>25%</th>\n",
       "      <td>3.000000</td>\n",
       "      <td>3.0</td>\n",
       "      <td>7.000000</td>\n",
       "      <td>0.047285</td>\n",
       "      <td>-1.080707</td>\n",
       "    </tr>\n",
       "    <tr>\n",
       "      <th>50%</th>\n",
       "      <td>3.000000</td>\n",
       "      <td>3.0</td>\n",
       "      <td>12.000000</td>\n",
       "      <td>0.232201</td>\n",
       "      <td>-0.425085</td>\n",
       "    </tr>\n",
       "    <tr>\n",
       "      <th>75%</th>\n",
       "      <td>3.000000</td>\n",
       "      <td>3.0</td>\n",
       "      <td>16.000000</td>\n",
       "      <td>0.471035</td>\n",
       "      <td>-0.017044</td>\n",
       "    </tr>\n",
       "    <tr>\n",
       "      <th>max</th>\n",
       "      <td>7.000000</td>\n",
       "      <td>3.0</td>\n",
       "      <td>368.000000</td>\n",
       "      <td>7.732227</td>\n",
       "      <td>4.994135</td>\n",
       "    </tr>\n",
       "  </tbody>\n",
       "</table>\n",
       "</div>"
      ],
      "text/plain": [
       "           nelements  nperiodic_dimensions         nsites  \\\n",
       "count  131425.000000              131425.0  131425.000000   \n",
       "mean        2.848271                   3.0      13.132692   \n",
       "std         0.591254                   0.0       9.888142   \n",
       "min         1.000000                   3.0       1.000000   \n",
       "25%         3.000000                   3.0       7.000000   \n",
       "50%         3.000000                   3.0      12.000000   \n",
       "75%         3.000000                   3.0      16.000000   \n",
       "max         7.000000                   3.0     368.000000   \n",
       "\n",
       "       _odbx_hull_distance  _odbx_formation_energy  \n",
       "count        131425.000000           131425.000000  \n",
       "mean              0.410940               -0.594078  \n",
       "std               0.618444                1.066740  \n",
       "min               0.000000               -4.720274  \n",
       "25%               0.047285               -1.080707  \n",
       "50%               0.232201               -0.425085  \n",
       "75%               0.471035               -0.017044  \n",
       "max               7.732227                4.994135  "
      ]
     },
     "execution_count": 47,
     "metadata": {},
     "output_type": "execute_result"
    }
   ],
   "source": [
    "import pandas as pd\n",
    "df = pd.DataFrame(optimade_structure_json)\n",
    "df.describe()"
   ]
  },
  {
   "cell_type": "code",
   "execution_count": 42,
   "metadata": {},
   "outputs": [
    {
     "data": {
      "image/png": "[encoded data removed]",
      "text/plain": [
       "<Figure size 432x288 with 1 Axes>"
      ]
     },
     "metadata": {
      "needs_background": "light"
     },
     "output_type": "display_data"
    }
   ],
   "source": [
    "plt.hist(df[\"nsites\"], bins=101);"
   ]
  },
  {
   "cell_type": "code",
   "execution_count": 46,
   "metadata": {},
   "outputs": [
    {
     "data": {
      "text/plain": [
       "(array([  462., 30853., 90208.,  8224.,  1448.,   230.]),\n",
       " array([1., 2., 3., 4., 5., 6., 7.]),\n",
       " <BarContainer object of 6 artists>)"
      ]
     },
     "execution_count": 46,
     "metadata": {},
     "output_type": "execute_result"
    },
    {
     "data": {
      "image/png": "[encoded data removed]",
      "text/plain": [
       "<Figure size 432x288 with 1 Axes>"
      ]
     },
     "metadata": {
      "needs_background": "light"
     },
     "output_type": "display_data"
    }
   ],
   "source": [
    "plt.hist(df[\"nelements\"], bins=6)"
   ]
  },
  {
   "cell_type": "code",
   "execution_count": 48,
   "metadata": {},
   "outputs": [],
   "source": [
    "# Dump with datetime support\n",
    "from bson.json_util import dumps\n",
    "with open(\"camd_optimade.json\", \"w\") as f:\n",
    "    f.write(dumps(optimade_structure_json))"
   ]
  }
 ],
 "metadata": {
  "kernelspec": {
   "display_name": "Python 3.10.4 ('optimade_ingest')",
   "language": "python",
   "name": "python3"
  },
  "language_info": {
   "codemirror_mode": {
    "name": "ipython",
    "version": 3
   },
   "file_extension": ".py",
   "mimetype": "text/x-python",
   "name": "python",
   "nbconvert_exporter": "python",
   "pygments_lexer": "ipython3",
   "version": "3.10.4"
  },
  "orig_nbformat": 4,
  "vscode": {
   "interpreter": {
    "hash": "d75665cac3973cae176f0a328f08573701e11c75c314413fc665abbac7e3e1fe"
   }
  }
 },
 "nbformat": 4,
 "nbformat_minor": 2
}
